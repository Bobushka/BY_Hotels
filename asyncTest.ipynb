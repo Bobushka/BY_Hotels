{
 "cells": [
  {
   "cell_type": "code",
   "execution_count": null,
   "metadata": {},
   "outputs": [],
   "source": [
    "import asyncio\n",
    "import aiohttp\n",
    "import time"
   ]
  },
  {
   "cell_type": "code",
   "execution_count": null,
   "metadata": {},
   "outputs": [],
   "source": [
    "# Синхронная функция\n",
    "def get_data_from_database(query: str):\n",
    "    print(f\"Получен запрос: {query}\")\n",
    "    if query == \"Сочи\":\n",
    "        time.sleep(4)\n",
    "    elif query == \"Дубай\":\n",
    "        time.sleep(2)\n",
    "    print(f\"Данные получены: {query}\")"
   ]
  },
  {
   "cell_type": "code",
   "execution_count": null,
   "metadata": {},
   "outputs": [],
   "source": [
    "# Асинхронная функция\n",
    "async def get_data_from_database_async(query: str):\n",
    "    print(f\"Получен запрос: {query}\")\n",
    "    if query == \"Сочи\":\n",
    "        await asyncio.sleep(4)\n",
    "    elif query == \"Дубай\":\n",
    "        await asyncio.sleep(2)\n",
    "    print(f\"Данные получены: {query}\")\n",
    "    return \"Results\""
   ]
  },
  {
   "cell_type": "code",
   "execution_count": null,
   "metadata": {},
   "outputs": [],
   "source": [
    "# Пример асинхронного вызова с использованием asyncio.gather\n",
    "async def main():\n",
    "    tasks = [\n",
    "        get_data_from_database_async(\"Сочи\"),\n",
    "        get_data_from_database_async(\"Дубай\")\n",
    "    ]\n",
    "    results = await asyncio.gather(*tasks)\n",
    "    print(\"Все данные получены:\", results)"
   ]
  },
  {
   "cell_type": "code",
   "execution_count": null,
   "metadata": {},
   "outputs": [],
   "source": [
    "# Запуск программы\n",
    "asyncio.run(main())"
   ]
  }
 ],
 "metadata": {
  "kernelspec": {
   "display_name": "venv",
   "language": "python",
   "name": "python3"
  },
  "language_info": {
   "codemirror_mode": {
    "name": "ipython",
    "version": 3
   },
   "file_extension": ".py",
   "mimetype": "text/x-python",
   "name": "python",
   "nbconvert_exporter": "python",
   "pygments_lexer": "ipython3",
   "version": "3.12.0"
  }
 },
 "nbformat": 4,
 "nbformat_minor": 2
}
